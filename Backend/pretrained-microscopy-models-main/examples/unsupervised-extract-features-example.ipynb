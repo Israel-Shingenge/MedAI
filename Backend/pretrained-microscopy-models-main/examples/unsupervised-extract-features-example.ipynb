{
 "cells": [
  {
   "cell_type": "markdown",
   "metadata": {},
   "source": [
    "This code automatically extracts features from any microscopy image without additional CNN model training. In this example, it is used to process multiple images to extract features, perform dimensionality reduction on extracted features, and used to train simpler machine learning models for predicting material properties."
   ]
  },
  {
   "cell_type": "code",
   "execution_count": 1,
   "metadata": {},
   "outputs": [],
   "source": [
    "import timm\n",
    "import pretrainedmodels\n",
    "import torch\n",
    "from PIL import Image\n",
    "from torchvision import transforms\n",
    "import glob\n",
    "from tqdm import tqdm\n",
    "import pandas as pd\n"
   ]
  },
  {
   "cell_type": "markdown",
   "metadata": {},
   "source": [
    "## Extract Features"
   ]
  },
  {
   "cell_type": "code",
   "execution_count": null,
   "metadata": {},
   "outputs": [],
   "source": [
    "# functions\n",
    "\n",
    "def load_model(model_path):\n",
    "    \"\"\"Loading the model may be slow. Load once and pass each image seperately.\n",
    "\n",
    "    Args:\n",
    "        model_path (str): path to saved model. The download url for the model is \n",
    "        https://nasa-public-data.s3.amazonaws.com/microscopy_segmentation_models/se_resnext50_32x4d_pretrained_imagenet-microscopynet_v1.0.pth.tar\n",
    "\n",
    "    Returns:\n",
    "        pretrainedmodels.model: model pre-trained on MicroNet\n",
    "    \"\"\"\n",
    "    model = timm.create_model('seresnext50_32x4d') \n",
    "    state_dict = torch.load(model_path, weights_only=False)\n",
    "\n",
    "    sditems = list(state_dict.items())\n",
    "    for i, j in sditems:\n",
    "        if i[:7] == 'layer0.':\n",
    "            state_dict[i[7:]] = state_dict.pop(i)\n",
    "        elif 'se_module' in i:\n",
    "            state_dict[i.replace('se_module', 'se')] = state_dict.pop(i)\n",
    "        elif 'last_linear' in i:\n",
    "            state_dict[i.replace('last_linear', 'fc')] = state_dict.pop(i)\n",
    "\n",
    "    model.load_state_dict(state_dict)\n",
    "\n",
    "    if torch.cuda.is_available(): # move the model to GPU if available\n",
    "        model.to('cuda')\n",
    "\n",
    "    model.eval()\n",
    "    return model\n",
    "\n",
    "preprocess = transforms.Compose([\n",
    "    transforms.ToTensor(),\n",
    "    transforms.Normalize(mean=[0.485, 0.456, 0.406], std=[0.229, 0.224, 0.225]),\n",
    "])"
   ]
  },
  {
   "cell_type": "code",
   "execution_count": 3,
   "metadata": {},
   "outputs": [],
   "source": [
    "# load model\n",
    "model_path = r'image_models\\se_resnext50_32x4d_pretrained_imagenet-microscopynet_v1.0.pth.tar'\n",
    "model = load_model(model_path)"
   ]
  },
  {
   "cell_type": "code",
   "execution_count": 4,
   "metadata": {},
   "outputs": [],
   "source": [
    "# setup output dict\n",
    "im_name_dict = {\"image\": []}\n",
    "feature_dict = {\"feature_%s\"%i: [] for i in range(1000)}\n",
    "output_dict = {**im_name_dict, **feature_dict}"
   ]
  },
  {
   "cell_type": "code",
   "execution_count": 5,
   "metadata": {},
   "outputs": [
    {
     "name": "stderr",
     "output_type": "stream",
     "text": [
      "100%|██████████| 1034/1034 [01:13<00:00, 14.02it/s]\n"
     ]
    }
   ],
   "source": [
    "# operate on images\n",
    "img_dir = r'image_data\\\\'\n",
    "for img_path in tqdm(glob.glob(img_dir + \"*.tif\")):\n",
    "    # load and preprocess image\n",
    "    im_name = img_path.split(img_dir[:-1])[1]\n",
    "    input_image = Image.open(img_path).convert(mode='RGB')\n",
    "    input_tensor = preprocess(input_image)\n",
    "    input_batch = input_tensor.unsqueeze(0) # create a mini-batch as expected by the model\n",
    "    input_batch = input_batch.to('cuda')\n",
    "\n",
    "    # run inference (could speed up with batch inference)\n",
    "    with torch.no_grad():\n",
    "        output = model(input_batch)\n",
    "\n",
    "    # add to dictionary\n",
    "    o = output.cpu().detach().numpy()[0]\n",
    "    output_dict['image'].append(im_name)\n",
    "    [output_dict['feature_%s'%i].append(o[i]) for i in range(1000)];"
   ]
  },
  {
   "cell_type": "code",
   "execution_count": null,
   "metadata": {},
   "outputs": [],
   "source": [
    "df = pd.DataFrame.from_dict(output_dict)\n",
    "df.to_csv(\"latent_features_imagenet_microscopynet.csv\", index=False)\n",
    "df.head()"
   ]
  },
  {
   "cell_type": "code",
   "execution_count": null,
   "metadata": {},
   "outputs": [],
   "source": []
  },
  {
   "cell_type": "code",
   "execution_count": null,
   "metadata": {},
   "outputs": [],
   "source": [
    "import numpy as np\n",
    "import matplotlib.pyplot as plt\n",
    "import pandas as pd\n",
    "from sklearn.decomposition import PCA\n",
    "# fred was here\n",
    "# josh was here too"
   ]
  },
  {
   "cell_type": "markdown",
   "metadata": {},
   "source": [
    "## Load data"
   ]
  },
  {
   "cell_type": "code",
   "execution_count": null,
   "metadata": {},
   "outputs": [],
   "source": [
    "df_image_features = pd.read_csv('latent_features_imagenet_microscopynet.csv')\n",
    "df_image_features.image = [name[:-4] for name in df_image_features.image] # drop the \".TIF\"\n",
    "df_meta = pd.read_csv('image_meta_data.csv')"
   ]
  },
  {
   "cell_type": "code",
   "execution_count": null,
   "metadata": {},
   "outputs": [],
   "source": [
    "df_image_features.head()"
   ]
  },
  {
   "cell_type": "code",
   "execution_count": null,
   "metadata": {},
   "outputs": [],
   "source": [
    "df_meta.head()"
   ]
  },
  {
   "cell_type": "markdown",
   "metadata": {},
   "source": [
    "## Perform Data reduction"
   ]
  },
  {
   "cell_type": "markdown",
   "metadata": {},
   "source": [
    "Questions.\n",
    "1. What's the best method? PCA? TSNE?\n",
    "2. How many features should it be reduced to? 50? 20?"
   ]
  },
  {
   "cell_type": "code",
   "execution_count": null,
   "metadata": {},
   "outputs": [
    {
     "name": "stdout",
     "output_type": "stream",
     "text": [
      "Total variance explained: 0.95\n"
     ]
    },
    {
     "data": {
      "image/png": "[encoded data removed]",
      "text/plain": [
       "<Figure size 432x288 with 1 Axes>"
      ]
     },
     "metadata": {},
     "output_type": "display_data"
    }
   ],
   "source": [
    "NUM_FEATURES = 20\n",
    "X = df_image_features.iloc[:, 1:].to_numpy()\n",
    "pca = PCA(n_components=NUM_FEATURES)\n",
    "X_reduced = pca.fit_transform(X)\n",
    "plt.bar(x = range(NUM_FEATURES), height=pca.explained_variance_ratio_);\n",
    "print(\"Total variance explained: %.2f\"%(pca.explained_variance_ratio_.sum()))"
   ]
  },
  {
   "cell_type": "markdown",
   "metadata": {},
   "source": [
    "## Combine data"
   ]
  },
  {
   "cell_type": "code",
   "execution_count": null,
   "metadata": {},
   "outputs": [],
   "source": [
    "# Convert the PCA features to a dataframe\n",
    "df_reduced = pd.DataFrame(X_reduced, columns=[f'PCA_{i}' for i in range(NUM_FEATURES)])\n",
    "\n",
    "# Concat the image names with the pca features in a new dataframe\n",
    "df_reduced_image_features = pd.concat([df_image_features['image'], df_reduced], axis=1)\n",
    "\n",
    "df_reduced_image_features.head()"
   ]
  },
  {
   "cell_type": "code",
   "execution_count": null,
   "metadata": {},
   "outputs": [],
   "source": [
    "# Combine meta data with reduced features\n",
    "df = pd.merge(df_meta, df_reduced_image_features, left_on='specimen', right_on='image')\n",
    "\n",
    "df.head()"
   ]
  },
  {
   "cell_type": "markdown",
   "metadata": {},
   "source": [
    "### Build model"
   ]
  },
  {
   "cell_type": "code",
   "execution_count": null,
   "metadata": {},
   "outputs": [],
   "source": [
    "from sklearn.model_selection import train_test_split\n",
    "from sklearn.ensemble import RandomForestRegressor\n",
    "from sklearn.metrics import mean_squared_error, r2_score\n",
    "\n",
    "from visualize import plot_actual_versus_predicted"
   ]
  },
  {
   "cell_type": "code",
   "execution_count": null,
   "metadata": {},
   "outputs": [],
   "source": [
    "features = [f'PCA_{i}' for i in range(NUM_FEATURES)]\n",
    "target = 'UTS'"
   ]
  },
  {
   "cell_type": "code",
   "execution_count": null,
   "metadata": {},
   "outputs": [
    {
     "name": "stderr",
     "output_type": "stream",
     "text": [
      "C:\\Users\\jstuckne\\AppData\\Local\\Temp\\2\\ipykernel_26368\\2251678845.py:12: DataConversionWarning: A column-vector y was passed when a 1d array was expected. Please change the shape of y to (n_samples,), for example using ravel().\n",
      "  rf_model.fit(X_train, y_train)\n"
     ]
    },
    {
     "name": "stdout",
     "output_type": "stream",
     "text": [
      "Mean Squared Error: 4.54\n",
      "R-squared: 0.56\n"
     ]
    }
   ],
   "source": [
    "# Split the data into input features and target variable\n",
    "X = df[features]\n",
    "y = df[target]\n",
    "\n",
    "# Split the data into training and testing sets (80% train, 20% test)\n",
    "X_train, X_test, y_train, y_test = train_test_split(X, y, test_size=0.2, random_state=42)\n",
    "\n",
    "# Initialize the Random Forest Regressor\n",
    "rf_model = RandomForestRegressor(n_estimators=100, random_state=42)\n",
    "\n",
    "# Fit the model on the training data\n",
    "rf_model.fit(X_train, y_train)\n",
    "\n",
    "# Predict on the test data\n",
    "y_pred = rf_model.predict(X_test)\n",
    "\n",
    "# Calculate accuracy metrics\n",
    "mse = mean_squared_error(y_test, y_pred)\n",
    "r2 = r2_score(y_test, y_pred)\n",
    "\n",
    "# Print the results\n",
    "print(f\"Mean Squared Error: {mse:.2f}\")\n",
    "print(f\"R-squared: {r2:.2f}\")"
   ]
  },
  {
   "cell_type": "code",
   "execution_count": null,
   "metadata": {},
   "outputs": [],
   "source": [
    "# predict on train data for plotting\n",
    "y_train_pred = rf_model.predict(X_train)\n",
    "\n",
    "# convert to numpy\n",
    "y_test_np = np.array(y_test).ravel()\n",
    "y_train_np = np.array(y_train).ravel()"
   ]
  },
  {
   "cell_type": "code",
   "execution_count": null,
   "metadata": {},
   "outputs": [],
   "source": [
    "import matplotlib.pyplot as plt\n",
    "import numpy as np\n",
    "\n",
    "def plot_actual_versus_predicted(y_test_pred, y_test, y_train_pred, y_train, title=None, save_fig=False):\n",
    "\n",
    "    plt.figure(figsize=(10,10))\n",
    "    conc = np.concatenate((y_test_pred, y_test, y_train_pred, y_train))\n",
    "    std = conc.std()\n",
    "    min_lim = min(conc) - std\n",
    "    max_lim = max(conc) + std\n",
    "\n",
    "    plt.xlim((min_lim, max_lim))\n",
    "    plt.ylim((min_lim, max_lim))\n",
    "    #plt.scatter(y_test, y_pred, alpha=0.5)\n",
    "    plt.errorbar(y_train, y_train_pred, alpha=0.5, fmt='o', ecolor='lightgray', label='Train Split', ms=10)\n",
    "    plt.errorbar(y_test, y_test_pred, alpha=0.5, fmt='o', ecolor='lightgray', label = 'Test Split', ms=10)\n",
    "    plt.legend()\n",
    "    plt.xlabel('Actual')\n",
    "    plt.ylabel('Predicted')\n",
    "    plt.plot((min_lim, max_lim), (min_lim, max_lim), 'r-')\n",
    "    if title is not None:\n",
    "        plt.title(title)\n",
    "    if save_fig:\n",
    "        plt.tight_layout()\n",
    "        plt.savefig('pred.png')\n",
    "        plt.close()\n",
    "    else:\n",
    "        plt.show()"
   ]
  },
  {
   "cell_type": "code",
   "execution_count": null,
   "metadata": {},
   "outputs": [
    {
     "data": {
      "image/png": "[encoded data removed]",
      "text/plain": [
       "<Figure size 720x720 with 1 Axes>"
      ]
     },
     "metadata": {},
     "output_type": "display_data"
    }
   ],
   "source": [
    "plot_actual_versus_predicted(y_pred, y_test_np, y_train_pred, y_train_np)"
   ]
  }
 ],
 "metadata": {
  "kernelspec": {
   "display_name": "micro_seg_models",
   "language": "python",
   "name": "python3"
  },
  "language_info": {
   "codemirror_mode": {
    "name": "ipython",
    "version": 3
   },
   "file_extension": ".py",
   "mimetype": "text/x-python",
   "name": "python",
   "nbconvert_exporter": "python",
   "pygments_lexer": "ipython3",
   "version": "3.8.5"
  }
 },
 "nbformat": 4,
 "nbformat_minor": 2
}
